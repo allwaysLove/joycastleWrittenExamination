{
 "cells": [
  {
   "cell_type": "markdown",
   "id": "0721d788",
   "metadata": {},
   "source": [
    "# Nginx 日志统计分析"
   ]
  },
  {
   "cell_type": "code",
   "execution_count": 1,
   "id": "5122fbf0",
   "metadata": {
    "scrolled": true
   },
   "outputs": [],
   "source": [
    "# 从 HDFS 上导入 Nginx 日志文件\n",
    "text_file = sc.textFile(\"hdfs://master:9000/nginx_log/aa\")"
   ]
  },
  {
   "cell_type": "code",
   "execution_count": 2,
   "id": "d3e87730",
   "metadata": {
    "scrolled": true
   },
   "outputs": [
    {
     "name": "stderr",
     "output_type": "stream",
     "text": [
      "                                                                                \r"
     ]
    },
    {
     "data": {
      "text/plain": [
       "'183.162.52.7 - - [10/Nov/2016:00:01:02 +0800] \"POST /api3/getadv HTTP/1.1\" 200 813 \"www.imooc.com\" \"-\" cid=0&timestamp=1478707261865&uid=2871142&marking=androidbanner&secrect=a6e8e14701ffe9f6063934780d9e2e6d&token=f51e97d1cb1a9caac669ea8acc162b96 \"mukewang/5.0.0 (Android 5.1.1; Xiaomi Redmi 3 Build/LMY47V),Network 2G/3G\" \"-\" 10.100.134.244:80 200 0.027 0.027'"
      ]
     },
     "execution_count": 2,
     "metadata": {},
     "output_type": "execute_result"
    }
   ],
   "source": [
    "# 获取第一行记录\n",
    "first_line = text_file.first()\n",
    "first_line"
   ]
  },
  {
   "cell_type": "code",
   "execution_count": 3,
   "id": "90f92a85",
   "metadata": {
    "scrolled": true
   },
   "outputs": [],
   "source": [
    "# 构建日志记录行匹配正则\n",
    "import re\n",
    "pattern = re.compile(r'(?P<ip>.*?) - - \\[(?P<time>.*?)\\] \"(?P<request_method>.*?) (?P<query>.*?)\" (?P<status>.*?) (?P<content_length>.*?) \"(?P<raw_uri>.*?)\" \"(?P<ua>.*?)\"')"
   ]
  },
  {
   "cell_type": "code",
   "execution_count": 4,
   "id": "bee23920",
   "metadata": {
    "scrolled": true
   },
   "outputs": [],
   "source": [
    "# 查看正则表达式效果\n",
    "search_result = pattern.search(first_line)"
   ]
  },
  {
   "cell_type": "code",
   "execution_count": 5,
   "id": "465aedf1",
   "metadata": {
    "scrolled": true
   },
   "outputs": [
    {
     "data": {
      "text/plain": [
       "'183.162.52.7'"
      ]
     },
     "execution_count": 5,
     "metadata": {},
     "output_type": "execute_result"
    }
   ],
   "source": [
    "search_result.group('ip')"
   ]
  },
  {
   "cell_type": "code",
   "execution_count": 6,
   "id": "b90abd87",
   "metadata": {
    "scrolled": true
   },
   "outputs": [
    {
     "data": {
      "text/plain": [
       "'10/Nov/2016:00:01:02 +0800'"
      ]
     },
     "execution_count": 6,
     "metadata": {},
     "output_type": "execute_result"
    }
   ],
   "source": [
    "search_result.group('time')"
   ]
  },
  {
   "cell_type": "code",
   "execution_count": 7,
   "id": "103f1de4",
   "metadata": {
    "scrolled": true
   },
   "outputs": [
    {
     "data": {
      "text/plain": [
       "'POST'"
      ]
     },
     "execution_count": 7,
     "metadata": {},
     "output_type": "execute_result"
    }
   ],
   "source": [
    "search_result.group('request_method')"
   ]
  },
  {
   "cell_type": "code",
   "execution_count": 8,
   "id": "c9eddd15",
   "metadata": {
    "scrolled": true
   },
   "outputs": [
    {
     "data": {
      "text/plain": [
       "'/api3/getadv HTTP/1.1'"
      ]
     },
     "execution_count": 8,
     "metadata": {},
     "output_type": "execute_result"
    }
   ],
   "source": [
    "search_result.group('query')"
   ]
  },
  {
   "cell_type": "code",
   "execution_count": 9,
   "id": "121944ee",
   "metadata": {
    "scrolled": true
   },
   "outputs": [
    {
     "data": {
      "text/plain": [
       "'200'"
      ]
     },
     "execution_count": 9,
     "metadata": {},
     "output_type": "execute_result"
    }
   ],
   "source": [
    "search_result.group('status')"
   ]
  },
  {
   "cell_type": "code",
   "execution_count": 10,
   "id": "02df9dcd",
   "metadata": {
    "scrolled": true
   },
   "outputs": [
    {
     "data": {
      "text/plain": [
       "'813'"
      ]
     },
     "execution_count": 10,
     "metadata": {},
     "output_type": "execute_result"
    }
   ],
   "source": [
    "search_result.group('content_length')"
   ]
  },
  {
   "cell_type": "code",
   "execution_count": 11,
   "id": "ac2a2cad",
   "metadata": {
    "scrolled": true
   },
   "outputs": [
    {
     "data": {
      "text/plain": [
       "'www.imooc.com'"
      ]
     },
     "execution_count": 11,
     "metadata": {},
     "output_type": "execute_result"
    }
   ],
   "source": [
    "search_result.group('raw_uri')"
   ]
  },
  {
   "cell_type": "code",
   "execution_count": 12,
   "id": "b8e3ade7",
   "metadata": {
    "scrolled": true
   },
   "outputs": [],
   "source": [
    "from RowData import RowData"
   ]
  },
  {
   "cell_type": "code",
   "execution_count": 13,
   "id": "749984f6",
   "metadata": {
    "scrolled": true
   },
   "outputs": [
    {
     "data": {
      "text/plain": [
       "datetime.datetime(2016, 11, 10, 0, 1, 2, tzinfo=datetime.timezone(datetime.timedelta(seconds=28800)))"
      ]
     },
     "execution_count": 13,
     "metadata": {},
     "output_type": "execute_result"
    }
   ],
   "source": [
    "# 构建时间解析格式\n",
    "import datetime\n",
    "datetime.datetime.strptime('10/Nov/2016:00:01:02 +0800', '%d/%b/%Y:%H:%M:%S %z')"
   ]
  },
  {
   "cell_type": "code",
   "execution_count": 14,
   "id": "19d26380",
   "metadata": {
    "scrolled": true
   },
   "outputs": [],
   "source": [
    "# 解析 Nginx 日志时间函数\n",
    "def parse_nginx_time(time_string):\n",
    "    return datetime.datetime.strptime(time_string, '%d/%b/%Y:%H:%M:%S %z')"
   ]
  },
  {
   "cell_type": "code",
   "execution_count": 15,
   "id": "cf1fe49b",
   "metadata": {
    "scrolled": true
   },
   "outputs": [],
   "source": [
    "# 导入域名解析库\n",
    "from tld import get_fld, exceptions\n",
    "\n",
    "# 解析 Nginx 日志每行记录\n",
    "def parse_nginx_log_line(logline):\n",
    "    match = re.search(pattern, logline)\n",
    " \n",
    "    if match is None:\n",
    "        return None\n",
    " \n",
    "    content_length_field = match.group('content_length')\n",
    "    \n",
    "    try:\n",
    "        domain = get_fld(match.group('raw_uri'), fix_protocol=True)\n",
    "    except (exceptions.TldDomainNotFound, exceptions.TldBadUrl):\n",
    "        domain = match.group('raw_uri')\n",
    "    \n",
    "    return  RowData(\n",
    "                ip = match.group('ip'),\n",
    "                time = parse_nginx_time(match.group('time')),\n",
    "                request_method = match.group('request_method'),\n",
    "                query = match.group('query'),\n",
    "                raw_uri = match.group('raw_uri'),\n",
    "                domain = domain,\n",
    "                status = match.group('status'),\n",
    "                content_length = 0 if content_length_field == '-' else content_length_field\n",
    "            )"
   ]
  },
  {
   "cell_type": "code",
   "execution_count": 16,
   "id": "277455ee",
   "metadata": {
    "scrolled": true
   },
   "outputs": [
    {
     "data": {
      "text/plain": [
       "ip: 183.162.52.7\n",
       "time: 2016-11-10 00:01:02+08:00\n",
       "request_method: POST\n",
       "query: /api3/getadv HTTP/1.1\n",
       "raw_uri: www.imooc.com\n",
       "domain: imooc.com\n",
       "status: 200\n",
       "content_length: 813"
      ]
     },
     "execution_count": 16,
     "metadata": {},
     "output_type": "execute_result"
    }
   ],
   "source": [
    "# 测试解析效果\n",
    "row_data = parse_nginx_log_line(first_line)\n",
    "row_data"
   ]
  },
  {
   "cell_type": "code",
   "execution_count": 17,
   "id": "e3b2fea0",
   "metadata": {
    "scrolled": true
   },
   "outputs": [
    {
     "data": {
      "text/plain": [
       "{'ip': '183.162.52.7',\n",
       " 'time': datetime.datetime(2016, 11, 10, 0, 1, 2, tzinfo=datetime.timezone(datetime.timedelta(seconds=28800))),\n",
       " 'request_method': 'POST',\n",
       " 'query': '/api3/getadv HTTP/1.1',\n",
       " 'raw_uri': 'www.imooc.com',\n",
       " 'domain': 'imooc.com',\n",
       " 'status': '200',\n",
       " 'content_length': '813'}"
      ]
     },
     "execution_count": 17,
     "metadata": {},
     "output_type": "execute_result"
    }
   ],
   "source": [
    "row_data.test_state()"
   ]
  },
  {
   "cell_type": "code",
   "execution_count": 18,
   "id": "6741cf80",
   "metadata": {
    "scrolled": true
   },
   "outputs": [],
   "source": [
    "import pickle\n",
    "\n",
    "pickle_dump_result = pickle.dumps(row_data)"
   ]
  },
  {
   "cell_type": "code",
   "execution_count": 19,
   "id": "3065d525",
   "metadata": {
    "scrolled": true
   },
   "outputs": [
    {
     "data": {
      "text/plain": [
       "ip: 183.162.52.7\n",
       "time: 2016-11-10 00:01:02+08:00\n",
       "request_method: POST\n",
       "query: /api3/getadv HTTP/1.1\n",
       "raw_uri: www.imooc.com\n",
       "domain: imooc.com\n",
       "status: 200\n",
       "content_length: 813"
      ]
     },
     "execution_count": 19,
     "metadata": {},
     "output_type": "execute_result"
    }
   ],
   "source": [
    "pickle.loads(pickle_dump_result)"
   ]
  },
  {
   "cell_type": "code",
   "execution_count": 20,
   "id": "cf9f0972",
   "metadata": {
    "scrolled": true
   },
   "outputs": [],
   "source": [
    "# 解析每一行记录\n",
    "map_result = text_file.map(parse_nginx_log_line)"
   ]
  },
  {
   "cell_type": "code",
   "execution_count": 33,
   "id": "e16a1ce9",
   "metadata": {},
   "outputs": [
    {
     "data": {
      "text/plain": [
       "ip: 183.162.52.7\n",
       "time: 2016-11-10 00:01:02+08:00\n",
       "request_method: POST\n",
       "query: /api3/getadv HTTP/1.1\n",
       "raw_uri: www.imooc.com\n",
       "domain: imooc.com\n",
       "status: 200\n",
       "content_length: 813"
      ]
     },
     "execution_count": 33,
     "metadata": {},
     "output_type": "execute_result"
    }
   ],
   "source": [
    "map_result.first()"
   ]
  },
  {
   "cell_type": "markdown",
   "id": "5ac424d2",
   "metadata": {},
   "source": [
    "### 指定域名请求数量统计"
   ]
  },
  {
   "cell_type": "code",
   "execution_count": 22,
   "id": "b1b854ab",
   "metadata": {
    "scrolled": true
   },
   "outputs": [],
   "source": [
    "# 对 map 结果 RDD 进行筛选\n",
    "filter_result = map_result.filter(lambda x: x is not None and x.domain == \"imooc.com\")"
   ]
  },
  {
   "cell_type": "code",
   "execution_count": 23,
   "id": "6301fbea",
   "metadata": {
    "scrolled": true
   },
   "outputs": [
    {
     "name": "stderr",
     "output_type": "stream",
     "text": [
      "                                                                                \r"
     ]
    },
    {
     "data": {
      "text/plain": [
       "39543"
      ]
     },
     "execution_count": 23,
     "metadata": {},
     "output_type": "execute_result"
    }
   ],
   "source": [
    "# 计算筛选后 RDD 记录数量\n",
    "# 指定域名的请求数量\n",
    "filter_result.count()"
   ]
  },
  {
   "cell_type": "markdown",
   "id": "705acb34",
   "metadata": {},
   "source": [
    "### 指定日期请求成功数量占比"
   ]
  },
  {
   "cell_type": "code",
   "execution_count": 24,
   "id": "7167c8db",
   "metadata": {
    "scrolled": true
   },
   "outputs": [],
   "source": [
    "# 指定日期\n",
    "filter_date = datetime.date(year=2016, month=11, day=10)"
   ]
  },
  {
   "cell_type": "code",
   "execution_count": 25,
   "id": "23752790",
   "metadata": {
    "scrolled": true
   },
   "outputs": [],
   "source": [
    "# 对 map 结果进行筛选，并按状态码分组\n",
    "group_result = (\n",
    "    map_result\n",
    "    .filter(lambda x: x is not None and x.time.date() == filter_date)\n",
    "    .groupBy(lambda x: 200 <= int(x.status) < 300)\n",
    ")"
   ]
  },
  {
   "cell_type": "code",
   "execution_count": 26,
   "id": "8f3c4ad7",
   "metadata": {
    "scrolled": true
   },
   "outputs": [
    {
     "name": "stderr",
     "output_type": "stream",
     "text": [
      "                                                                                \r"
     ]
    }
   ],
   "source": [
    "collect_result = group_result.collect()"
   ]
  },
  {
   "cell_type": "code",
   "execution_count": 27,
   "id": "984afb92",
   "metadata": {
    "scrolled": true
   },
   "outputs": [
    {
     "data": {
      "text/plain": [
       "[(False, <pyspark.resultiterable.ResultIterable at 0x7f42ec0ff9a0>),\n",
       " (True, <pyspark.resultiterable.ResultIterable at 0x7f42ec410910>)]"
      ]
     },
     "execution_count": 27,
     "metadata": {},
     "output_type": "execute_result"
    }
   ],
   "source": [
    "collect_result"
   ]
  },
  {
   "cell_type": "code",
   "execution_count": 28,
   "id": "8e730a32",
   "metadata": {
    "scrolled": true
   },
   "outputs": [],
   "source": [
    "def get_count(data_list):\n",
    "    return len(data_list)"
   ]
  },
  {
   "cell_type": "code",
   "execution_count": 29,
   "id": "99412d49",
   "metadata": {
    "scrolled": true
   },
   "outputs": [],
   "source": [
    "collect_result = group_result.mapValues(get_count).collect()"
   ]
  },
  {
   "cell_type": "code",
   "execution_count": 30,
   "id": "bbbc5e35",
   "metadata": {
    "scrolled": true
   },
   "outputs": [
    {
     "data": {
      "text/plain": [
       "(45045, 54955)"
      ]
     },
     "execution_count": 30,
     "metadata": {},
     "output_type": "execute_result"
    }
   ],
   "source": [
    "# 请求状态数量\n",
    "success_count = collect_result[1][1]\n",
    "fail_count = collect_result[0][1]\n",
    "success_count, fail_count"
   ]
  },
  {
   "cell_type": "code",
   "execution_count": 31,
   "id": "ef0366bd",
   "metadata": {
    "scrolled": true
   },
   "outputs": [
    {
     "data": {
      "text/plain": [
       "45.045"
      ]
     },
     "execution_count": 31,
     "metadata": {},
     "output_type": "execute_result"
    }
   ],
   "source": [
    "# 请求成功占比\n",
    "success_count / (success_count + fail_count) * 100"
   ]
  }
 ],
 "metadata": {
  "kernelspec": {
   "display_name": "Python 3 (ipykernel)",
   "language": "python",
   "name": "python3"
  },
  "language_info": {
   "codemirror_mode": {
    "name": "ipython",
    "version": 3
   },
   "file_extension": ".py",
   "mimetype": "text/x-python",
   "name": "python",
   "nbconvert_exporter": "python",
   "pygments_lexer": "ipython3",
   "version": "3.8.12"
  }
 },
 "nbformat": 4,
 "nbformat_minor": 5
}
